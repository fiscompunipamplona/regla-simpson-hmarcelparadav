{
 "cells": [
  {
   "cell_type": "markdown",
   "metadata": {},
   "source": [
    "Vamos hallar la integral con limites entre -1 y 1 de la función f(x)=x⁴-2x+1 por la regla Simpson\n",
    "\n",
    "La sumatoria que se uso es la siguiente \n",
    "I=(h/3)(f(a)+f(b)+4Σf(a_2k+1)+2Σf(a_2k) donde la primera sumatoria inicializa en k=0 y finaliza en (N-2)/2 esta será para los numero impares y la otra sumatoria inicializa en k=1 y finaliza en (N-2)/2 la cual es para los pares.\n",
    "\n",
    "Recordando que el calculo de las Xn=a+nh donde h=(b-a)/2"
   ]
  },
  {
   "cell_type": "code",
   "execution_count": 16,
   "metadata": {},
   "outputs": [
    {
     "name": "stdout",
     "output_type": "stream",
     "text": [
      "La integral es:\n",
      "  4.400000000004267\n"
     ]
    }
   ],
   "source": [
    "n=1000   #Integral por el Metodo del Simpson\n",
    "b=2   #Limite superior de la integral\n",
    "a=0   #Limite inferior de la integral\n",
    "h=(b-a)/n\n",
    "\n",
    "\n",
    "def valorx(h,n,a):  #Aquì calcularemos los valores de xn los cuales será evaluados en la función f(x)\n",
    "    xnn=[]\n",
    "    for i in range(n+1):\n",
    "        x= a+i*h\n",
    "        xnn.append(x)\n",
    "    return(xnn)\n",
    "xn=valorx(h,n,a)\n",
    "#print(\"Valores de Xn\\n\",xn)\n",
    "\n",
    "def evaluadonxn(xn,n):  #Evaluaremos la función\n",
    "    fe=[]\n",
    "    for i in range(n+1):\n",
    "        f_x=xn[i]**4-2*xn[i]+1     #función f(x)\n",
    "        fe.append(f_x)\n",
    "    return(fe)\n",
    "fx=evaluadonxn(xn,n)\n",
    "#print(\"Los valores Evaluado en fx:\\n \",fx)\n",
    "\n",
    "def integral(fx,n,h):\n",
    "    fx2k1=0\n",
    "    fx2k=0\n",
    "    k=0\n",
    "    for i in range(int((n-2)/2)+1):\n",
    "        fx_2k1=fx[2*i+1]\n",
    "        fx2k1=fx2k1+fx_2k1\n",
    "    #fxm4=4*fx2k1\n",
    "    for i in range(1,int((n-2)/2)+1):\n",
    "        fx_2k=fx[2*i]\n",
    "        fx2k=fx2k+fx_2k\n",
    "    #fxm2=2*fx2k\n",
    "    fx1=fx[k]\n",
    "    k=n\n",
    "    fx2=fx[k]\n",
    "    #integr=(h/3)*(fx1+fx2+fxm4+fxm2)\n",
    "    integr=(h/3)*(fx1+fx2+4*fx2k1+2*fx2k)\n",
    "    return(integr)\n",
    "integra=integral(fx,n,h)\n",
    "print(\"La integral es:\\n \",integra)\n",
    "    \n",
    "    \n",
    "\n",
    "\n"
   ]
  },
  {
   "cell_type": "code",
   "execution_count": 17,
   "metadata": {},
   "outputs": [
    {
     "name": "stdout",
     "output_type": "stream",
     "text": [
      "4.360130474793567\n",
      "La integral es  4.374130474793567\n"
     ]
    }
   ],
   "source": [
    "n=1000  #Integral por el Metodo del Trapecio\n",
    "I=0\n",
    "a=0\n",
    "b=2\n",
    "h=(b-a)/n\n",
    "for f in range(1,n-1):\n",
    "    p=((a+f*h)**4)-(2*(a+f*h))+1\n",
    "    I=I+p*h\n",
    "print(I) \n",
    "l=h*(0.5*(((a)**4) - 2*(a)+1)+0.5*(((b)**4) - 2*(b)+1))+I\n",
    "print(\"La integral es \",l)"
   ]
  },
  {
   "cell_type": "markdown",
   "metadata": {},
   "source": [
    "A continuación comparamos el metodo de simpson con el del trapecio mirando su % de error teniendo que el Teorico es 4.4"
   ]
  },
  {
   "cell_type": "code",
   "execution_count": 36,
   "metadata": {},
   "outputs": [
    {
     "name": "stdout",
     "output_type": "stream",
     "text": [
      "Error % Metodo del Trapecio: 0.5879437546916625\n",
      "Error % Metodo de Simpson:   9.697293473271367e-11\n",
      "Con esto se deduce que el Metodo de Simpson es mas aproximado al Teorico\n"
     ]
    }
   ],
   "source": [
    "T=4.4\n",
    "\n",
    "errorT=(abs(T-l)/T)*100\n",
    "errorS=(abs(T-integra)/T)*100\n",
    "print(\"Error % Metodo del Trapecio:\",errorT)\n",
    "print(\"Error % Metodo de Simpson:  \",errorS)\n",
    "\n",
    "print(\"Con esto se deduce que el Metodo de Simpson es mas aproximado al Teorico\")"
   ]
  },
  {
   "cell_type": "code",
   "execution_count": 65,
   "metadata": {},
   "outputs": [
    {
     "name": "stdout",
     "output_type": "stream",
     "text": [
      "[1.0000000000000002, 0.7651976865579665, 0.22389077914123562, -0.26005195490193356, -0.39714980986384724, -0.1775967713143382, 0.150645257250997, 0.3000792705195559, 0.17165080713755404, -0.09033361118287613, -0.24593576445134854, -0.17119030040719602, 0.047689310796833584, 0.2069261023770679, 0.17107347611045887, -0.014224472826780781, -0.1748990739836291, -0.16985425215118347, -0.013355805721984105, 0.14662943965965117]\n",
      "[-1.9095836023552694e-17, 0.4400505857449332, 0.5767248077568733, 0.33905895852593637, -0.06604332802354927, -0.3275791375914654, -0.27668385812756574, -0.0046828234823459314, 0.23463634685391455, 0.2453117865733254, 0.04347274616886138, -0.17678529895672151, -0.2234471044906276, -0.07031805212177837, 0.1333751546987933, 0.2051040386135226, 0.09039717566130422, -0.09766849275778068, -0.18799488548806975, -0.10570143114240925]\n",
      "[-2.4794980883295168e-17, 0.11490348493190046, 0.35283402861563806, 0.48609126058589075, 0.36412814585207304, 0.04656511627775218, -0.2428732099601855, -0.3014172200859403, -0.11299172042407529, 0.14484734153250392, 0.2546303136851209, 0.13904751877870128, -0.08493049487860477, -0.21774426424195692, -0.15201988258205976, 0.041571677975250416, 0.1861987209412923, 0.15836384123850353, -0.007532514887801347, -0.1577559060956942]\n"
     ]
    }
   ],
   "source": [
    "from math import cos, sin, pi\n",
    "\n",
    "n=1000   #Integral por el Metodo del Simpson\n",
    "b=pi   #Limite superior de la integral\n",
    "a=0   #Limite inferior de la integral\n",
    "h=(b-a)/n\n",
    "\n",
    "for m in range(0,2+1): \n",
    "    listax=[]\n",
    "    for kk in range(0,20):\n",
    "        def valorx(h,n,a):  #Aquì calcularemos los valores de xn los cuales será evaluados en la función f(x)\n",
    "            xnn=[]\n",
    "            for i in range(n+1):\n",
    "                x= a+i*h\n",
    "                xnn.append(x)\n",
    "            return(xnn)\n",
    "        xn=valorx(h,n,a)\n",
    "        #print(\"Valores de Xn\\n\",xn)\n",
    "    \n",
    "        def evaluadonxn(xn,n,kk,m):  #Evaluaremos la función\n",
    "            fe=[]\n",
    "            for i in range(n+1):\n",
    "                f_x=cos(m*xn[i]-(kk)*sin(xn[i]))    #función f(x)  \n",
    "                fe.append(f_x)\n",
    "            return(fe)\n",
    "        fx=evaluadonxn(xn,n,kk,m)\n",
    "        #print(\"Los valores Evaluado en fx:\\n \",fx)\n",
    "        \n",
    "        def integral(fx,n,h):\n",
    "            fx2k1=0\n",
    "            fx2k=0\n",
    "            k=0\n",
    "            for i in range(int((n-2)/2)+1):\n",
    "                fx_2k1=fx[2*i+1]\n",
    "                fx2k1=fx2k1+fx_2k1\n",
    "            #fxm4=4*fx2k1\n",
    "            for i in range(1,int((n-2)/2)+1):\n",
    "                fx_2k=fx[2*i]\n",
    "                fx2k=fx2k+fx_2k\n",
    "            #fxm2=2*fx2k\n",
    "            fx1=fx[k]\n",
    "            k=n\n",
    "            fx2=fx[k]\n",
    "            #integr=(h/3)*(fx1+fx2+fxm4+fxm2)\n",
    "            integr=(h/3)*(fx1+fx2+4*fx2k1+2*fx2k)\n",
    "            return((1/pi)*integr)\n",
    "        integra=integral(fx,n,h)\n",
    "        listax.append(integra)\n",
    "    print(listax)\n",
    "    \n"
   ]
  },
  {
   "cell_type": "code",
   "execution_count": 41,
   "metadata": {},
   "outputs": [
    {
     "name": "stdout",
     "output_type": "stream",
     "text": [
      "1.0\n"
     ]
    }
   ],
   "source": []
  },
  {
   "cell_type": "code",
   "execution_count": null,
   "metadata": {},
   "outputs": [],
   "source": []
  }
 ],
 "metadata": {
  "kernelspec": {
   "display_name": "Python 3",
   "language": "python",
   "name": "python3"
  },
  "language_info": {
   "codemirror_mode": {
    "name": "ipython",
    "version": 3
   },
   "file_extension": ".py",
   "mimetype": "text/x-python",
   "name": "python",
   "nbconvert_exporter": "python",
   "pygments_lexer": "ipython3",
   "version": "3.5.2"
  }
 },
 "nbformat": 4,
 "nbformat_minor": 2
}
